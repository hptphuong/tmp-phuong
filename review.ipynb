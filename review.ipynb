{
 "cells": [
  {
   "cell_type": "markdown",
   "metadata": {},
   "source": [
    "# Anomaly detection\n",
    "\n",
    "Anomaly detection refers the problems of finding instances or patterns much deviate from normal behaviour. These instances or patterns are often refers to nomalies or outliers.\n",
    "\n",
    "Anomalies can be classified into three categories:\n",
    "\n",
    "1. Point Anomalies: If individual instannt data too much different with rest of data ( too high or two low), this instant can be considered as point anomaly.\n",
    "\n",
    "    * For example, in credit card fraud detection we can base amount of transaction to detect anomalies. The transaction which have extremly high amount spend will be consideres as a point anomaly.\n",
    "\n",
    "\n",
    "2. Contextual Anomalies: If a data instances is anomalous in specific contex, but not otherwise, then it is termed to contextual anomaly.\n",
    "   - For example, the temperature can be drop down to zero in winter, but it this data will be a contextual anomaly if it appear in summer.\n",
    "   - Another example, Suppose an individual usually has a weekly shopping bill of 100 USD except during the Christmas week, when it reaches 1000 USD. A new purchase of 1000 USD in a week in July will be con-sidered a contextual anomaly, since it does not conform to the normal behavior of the individual in the context of time even though the same amount spent during Christmas week will be considered normal.\n",
    "3. Collective Anomalies: If there is a set of related points which are normal individually but anomalous if taken together, then the set is a collective anomaly.Time series sequences which deviate from the usual pattern come under collective anomalies.\n",
    "\n"
   ]
  },
  {
   "cell_type": "markdown",
   "metadata": {},
   "source": [
    "<img src=\"./map.png\" alt=\"nn\" style=\"width: 800px;\"/>"
   ]
  },
  {
   "cell_type": "markdown",
   "metadata": {},
   "source": []
  }
 ],
 "metadata": {
  "kernelspec": {
   "display_name": "Python [default]",
   "language": "python",
   "name": "python3"
  },
  "language_info": {
   "codemirror_mode": {
    "name": "ipython",
    "version": 3
   },
   "file_extension": ".py",
   "mimetype": "text/x-python",
   "name": "python",
   "nbconvert_exporter": "python",
   "pygments_lexer": "ipython3",
   "version": "3.6.4"
  }
 },
 "nbformat": 4,
 "nbformat_minor": 2
}
