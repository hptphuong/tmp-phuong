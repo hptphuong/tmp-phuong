{
 "cells": [
  {
   "cell_type": "markdown",
   "metadata": {},
   "source": []
  },
  {
   "cell_type": "code",
   "execution_count": 25,
   "metadata": {},
   "outputs": [
    {
     "name": "stdout",
     "output_type": "stream",
     "text": [
      "Extracting /tmp/data/train-images-idx3-ubyte.gz\n",
      "Extracting /tmp/data/train-labels-idx1-ubyte.gz\n",
      "Extracting /tmp/data/t10k-images-idx3-ubyte.gz\n",
      "Extracting /tmp/data/t10k-labels-idx1-ubyte.gz\n"
     ]
    }
   ],
   "source": [
    "from __future__ import print_function\n",
    "\n",
    "# Import MNIST data\n",
    "from tensorflow.examples.tutorials.mnist import input_data\n",
    "mnist = input_data.read_data_sets(\"/tmp/data/\", one_hot=True)\n",
    "\n",
    "import tensorflow as tf\n",
    "import numpy as np\n",
    "\n"
   ]
  },
  {
   "cell_type": "code",
   "execution_count": 18,
   "metadata": {},
   "outputs": [],
   "source": [
    "\n",
    "log_paths=\"/tmp/tensorflow_logs\""
   ]
  },
  {
   "cell_type": "markdown",
   "metadata": {},
   "source": [
    "<img src=\"http://cs231n.github.io/assets/nn1/neural_net2.jpeg\" alt=\"nn\" style=\"width: 400px;\"/>"
   ]
  },
  {
   "cell_type": "code",
   "execution_count": 39,
   "metadata": {},
   "outputs": [
    {
     "name": "stdout",
     "output_type": "stream",
     "text": [
      "(55000, 10)\n",
      "(55000, 784)\n"
     ]
    }
   ],
   "source": [
    "np.unique(mnist.train)\n",
    "print(mnist.train.labels.shape)\n",
    "print(mnist.train.images.shape)"
   ]
  },
  {
   "cell_type": "code",
   "execution_count": 127,
   "metadata": {},
   "outputs": [],
   "source": [
    "# paramters\n",
    "learning_rate=0.1\n",
    "epoch=1000\n",
    "batch_size=100\n",
    "display_step=128\n",
    "num_steps = 5000"
   ]
  },
  {
   "cell_type": "code",
   "execution_count": 41,
   "metadata": {},
   "outputs": [],
   "source": [
    "# Network Parameters\n",
    "n_hidden_1=256\n",
    "n_hidden_2=256\n",
    "num_input=784\n",
    "num_classes=10\n",
    "# tf graph input\n",
    "X=tf.placeholder(\"float\",[None,num_input])\n",
    "Y=tf.placeholder(\"float\",[None,num_classes])"
   ]
  },
  {
   "cell_type": "code",
   "execution_count": 49,
   "metadata": {},
   "outputs": [],
   "source": [
    "#Store layer weight & bias\n",
    "weights={\n",
    "    'h1':tf.Variable(tf.random_normal([num_input,n_hidden_1])),\n",
    "    'h2':tf.Variable(tf.random_normal([n_hidden_1,n_hidden_2])),\n",
    "    'out':tf.Variable(tf.random_normal([n_hidden_2,num_classes]))\n",
    "}\n",
    "bias={\n",
    "    'b1':tf.Variable(tf.random_normal([n_hidden_1])),\n",
    "    'b2':tf.Variable(tf.random_normal([n_hidden_1])),\n",
    "    'out':tf.Variable(tf.random_normal([num_classes]))\n",
    "}\n",
    "\n"
   ]
  },
  {
   "cell_type": "code",
   "execution_count": 69,
   "metadata": {},
   "outputs": [],
   "source": [
    "# Create model\n",
    "def neural_net(x):\n",
    "    layer1=tf.add(tf.matmul(x,weights['h1']),bias['b1'])\n",
    "    layer2=tf.add(tf.matmul(layer1,weights['h2']),bias['b2'])\n",
    "    out_layer=tf.add(tf.matmul(layer2,weights['out']),bias['out'])\n",
    "    return out_layer"
   ]
  },
  {
   "cell_type": "code",
   "execution_count": 117,
   "metadata": {},
   "outputs": [],
   "source": [
    "# Construct model\n",
    "logits = neural_net(X)\n",
    "\n",
    "# Define loss and optimizer cross-entropy\n",
    "loss_ops=tf.reduce_mean(tf.nn.softmax_cross_entropy_with_logits(logits=logits,labels=Y))\n",
    "optimizer = tf.train.AdamOptimizer(learning_rate).minimize(loss_ops)\n",
    "\n",
    "# Evaluate model\n",
    "\n",
    "correct_pred = tf.equal(tf.argmax(logits,1),tf.argmax(Y,1))\n",
    "accuracy = tf.reduce_mean(tf.cast(correct_pred, tf.float32))\n",
    "# Initialize the variables (i.e. assign their default value)\n",
    "init = tf.global_variables_initializer()"
   ]
  },
  {
   "cell_type": "code",
   "execution_count": 111,
   "metadata": {},
   "outputs": [
    {
     "data": {
      "text/plain": [
       "500"
      ]
     },
     "execution_count": 111,
     "metadata": {},
     "output_type": "execute_result"
    }
   ],
   "source": []
  },
  {
   "cell_type": "code",
   "execution_count": 128,
   "metadata": {},
   "outputs": [
    {
     "name": "stdout",
     "output_type": "stream",
     "text": [
      "Accuracy at steps 1, batch_loss:10825.235352 With accuracy:0.400000\n",
      "Accuracy at steps 128, batch_loss:155.071259 With accuracy:0.890000\n",
      "Accuracy at steps 256, batch_loss:106.423210 With accuracy:0.850000\n",
      "Accuracy at steps 384, batch_loss:57.712757 With accuracy:0.900000\n",
      "Accuracy at steps 512, batch_loss:39.532764 With accuracy:0.910000\n",
      "Accuracy at steps 640, batch_loss:26.737089 With accuracy:0.920000\n",
      "Accuracy at steps 768, batch_loss:73.435959 With accuracy:0.840000\n",
      "Accuracy at steps 896, batch_loss:92.296532 With accuracy:0.900000\n",
      "Accuracy at steps 1024, batch_loss:93.711487 With accuracy:0.860000\n",
      "Accuracy at steps 1152, batch_loss:76.762024 With accuracy:0.820000\n",
      "Accuracy at steps 1280, batch_loss:119.020569 With accuracy:0.860000\n",
      "Accuracy at steps 1408, batch_loss:88.823730 With accuracy:0.840000\n",
      "Accuracy at steps 1536, batch_loss:53.458565 With accuracy:0.840000\n",
      "Accuracy at steps 1664, batch_loss:64.184181 With accuracy:0.810000\n",
      "Accuracy at steps 1792, batch_loss:46.787411 With accuracy:0.850000\n",
      "Accuracy at steps 1920, batch_loss:44.675941 With accuracy:0.870000\n",
      "Accuracy at steps 2048, batch_loss:56.270298 With accuracy:0.830000\n",
      "Accuracy at steps 2176, batch_loss:124.441872 With accuracy:0.810000\n",
      "Accuracy at steps 2304, batch_loss:258.660431 With accuracy:0.780000\n",
      "Accuracy at steps 2432, batch_loss:17136.722656 With accuracy:0.810000\n",
      "Accuracy at steps 2560, batch_loss:953.665771 With accuracy:0.920000\n",
      "Accuracy at steps 2688, batch_loss:1205.392334 With accuracy:0.860000\n",
      "Accuracy at steps 2816, batch_loss:898.710754 With accuracy:0.900000\n",
      "Accuracy at steps 2944, batch_loss:130.482925 With accuracy:0.880000\n",
      "Accuracy at steps 3072, batch_loss:168.875824 With accuracy:0.890000\n",
      "Accuracy at steps 3200, batch_loss:152.382584 With accuracy:0.870000\n",
      "Accuracy at steps 3328, batch_loss:175.009918 With accuracy:0.860000\n",
      "Accuracy at steps 3456, batch_loss:48.881493 With accuracy:0.890000\n",
      "Accuracy at steps 3584, batch_loss:29.117867 With accuracy:0.920000\n",
      "Accuracy at steps 3712, batch_loss:89.980026 With accuracy:0.860000\n",
      "Accuracy at steps 3840, batch_loss:10.212997 With accuracy:0.940000\n",
      "Accuracy at steps 3968, batch_loss:63.530209 With accuracy:0.880000\n",
      "Accuracy at steps 4096, batch_loss:43.735748 With accuracy:0.890000\n",
      "Accuracy at steps 4224, batch_loss:10.796355 With accuracy:0.920000\n",
      "Accuracy at steps 4352, batch_loss:48.259544 With accuracy:0.880000\n",
      "Accuracy at steps 4480, batch_loss:36.267406 With accuracy:0.890000\n",
      "Accuracy at steps 4608, batch_loss:28.333750 With accuracy:0.890000\n",
      "Accuracy at steps 4736, batch_loss:68.101669 With accuracy:0.880000\n",
      "Accuracy at steps 4864, batch_loss:85.068474 With accuracy:0.830000\n",
      "Accuracy at steps 4992, batch_loss:39.584892 With accuracy:0.910000\n"
     ]
    }
   ],
   "source": [
    "# Start training\n",
    "with tf.Session() as sess:\n",
    "    sess.run(init)\n",
    "    for step in range(1,num_steps+1):\n",
    "        batch_x,batch_y=mnist.train.next_batch(batch_size)\n",
    "        sess.run(optimizer,feed_dict={X:batch_x,Y:batch_y})\n",
    "        if(step%display_step==0 or step == 1):\n",
    "            loss,acc=sess.run([loss_ops,accuracy],feed_dict={X:batch_x,Y:batch_y})\n",
    "            print(\"Accuracy at steps %d,\" %step,\n",
    "                  \"batch_loss:%4f\" %loss\n",
    "                  ,\"With accuracy:%4f\" %acc)\n",
    "            \n",
    "            \n",
    "            "
   ]
  },
  {
   "cell_type": "code",
   "execution_count": null,
   "metadata": {},
   "outputs": [],
   "source": [
    "with tf.Session() as sess:\n",
    "    print(sess.run(test))"
   ]
  },
  {
   "cell_type": "code",
   "execution_count": 102,
   "metadata": {},
   "outputs": [],
   "source": [
    "tmp=tf.constant([[1.,0.,0.,0.],\n",
    "                 [0.,0.,1.,0.],\n",
    "                [0.,1.,0.,0.]])\n",
    "# tmp=tf.constant([1.,2.,3.,4.])\n",
    "test=tf.argmax(tmp,0)\n"
   ]
  },
  {
   "cell_type": "code",
   "execution_count": 103,
   "metadata": {
    "scrolled": true
   },
   "outputs": [
    {
     "name": "stdout",
     "output_type": "stream",
     "text": [
      "[0 2 1 0]\n"
     ]
    }
   ],
   "source": [
    "with tf.Session() as sess:\n",
    "    print(sess.run(test))"
   ]
  },
  {
   "cell_type": "markdown",
   "metadata": {},
   "source": [
    "# Neural network with Api"
   ]
  },
  {
   "cell_type": "code",
   "execution_count": 129,
   "metadata": {},
   "outputs": [
    {
     "name": "stdout",
     "output_type": "stream",
     "text": [
      "Extracting /tmp/data/train-images-idx3-ubyte.gz\n",
      "Extracting /tmp/data/train-labels-idx1-ubyte.gz\n",
      "Extracting /tmp/data/t10k-images-idx3-ubyte.gz\n",
      "Extracting /tmp/data/t10k-labels-idx1-ubyte.gz\n"
     ]
    },
    {
     "ename": "ModuleNotFoundError",
     "evalue": "No module named 'matplotlib'",
     "output_type": "error",
     "traceback": [
      "\u001b[1;31m---------------------------------------------------------------------------\u001b[0m",
      "\u001b[1;31mModuleNotFoundError\u001b[0m                       Traceback (most recent call last)",
      "\u001b[1;32m<ipython-input-129-5dbb122d24aa>\u001b[0m in \u001b[0;36m<module>\u001b[1;34m()\u001b[0m\n\u001b[0;32m      6\u001b[0m \u001b[1;33m\u001b[0m\u001b[0m\n\u001b[0;32m      7\u001b[0m \u001b[1;32mimport\u001b[0m \u001b[0mtensorflow\u001b[0m \u001b[1;32mas\u001b[0m \u001b[0mtf\u001b[0m\u001b[1;33m\u001b[0m\u001b[0m\n\u001b[1;32m----> 8\u001b[1;33m \u001b[1;32mimport\u001b[0m \u001b[0mmatplotlib\u001b[0m\u001b[1;33m.\u001b[0m\u001b[0mpyplot\u001b[0m \u001b[1;32mas\u001b[0m \u001b[0mplt\u001b[0m\u001b[1;33m\u001b[0m\u001b[0m\n\u001b[0m\u001b[0;32m      9\u001b[0m \u001b[1;32mimport\u001b[0m \u001b[0mnumpy\u001b[0m \u001b[1;32mas\u001b[0m \u001b[0mnp\u001b[0m\u001b[1;33m\u001b[0m\u001b[0m\n",
      "\u001b[1;31mModuleNotFoundError\u001b[0m: No module named 'matplotlib'"
     ]
    }
   ],
   "source": [
    "from __future__ import print_function\n",
    "\n",
    "# Import MNIST data\n",
    "from tensorflow.examples.tutorials.mnist import input_data\n",
    "mnist = input_data.read_data_sets(\"/tmp/data/\", one_hot=False)\n",
    "\n",
    "import tensorflow as tf\n",
    "import matplotlib.pyplot as plt\n",
    "import numpy as np"
   ]
  },
  {
   "cell_type": "code",
   "execution_count": 130,
   "metadata": {},
   "outputs": [],
   "source": [
    "# parameter\n",
    "learing_rate=0.1\n",
    "number_step=1000\n",
    "display_step=100\n",
    "batch_size= 200\n",
    "#Network parameter\n",
    "\n",
    "n_hidden_1=256\n",
    "n_hidden_2=256\n",
    "num_input=784\n",
    "num_classes = 10"
   ]
  },
  {
   "cell_type": "code",
   "execution_count": 132,
   "metadata": {},
   "outputs": [],
   "source": [
    "# Define the input function for training\n",
    "input_fn = tf.estimator.inputs.numpy_input_fn(\n",
    "    x={'images': mnist.train.images}, y=mnist.train.labels,\n",
    "    batch_size=batch_size, num_epochs=None, shuffle=True)"
   ]
  },
  {
   "cell_type": "code",
   "execution_count": null,
   "metadata": {},
   "outputs": [],
   "source": [
    "# Define the neural network\n",
    "def neural_net(x_dict):\n",
    "    # TF Estimator input is a dict, in case of multiple inputs\n",
    "    x = x_dict['images']\n",
    "    # Hidden fully connected layer with 256 neurons\n",
    "    layer_1 = tf.layers.dense(x, n_hidden_1)\n",
    "    # Hidden fully connected layer with 256 neurons\n",
    "    layer_2 = tf.layers.dense(layer_1, n_hidden_2)\n",
    "    # Output fully connected layer with a neuron for each class\n",
    "    out_layer = tf.layers.dense(layer_2, num_classes)\n",
    "    return out_layer"
   ]
  }
 ],
 "metadata": {
  "kernelspec": {
   "display_name": "Python [conda env:tensorflow]",
   "language": "python",
   "name": "conda-env-tensorflow-py"
  },
  "language_info": {
   "codemirror_mode": {
    "name": "ipython",
    "version": 3
   },
   "file_extension": ".py",
   "mimetype": "text/x-python",
   "name": "python",
   "nbconvert_exporter": "python",
   "pygments_lexer": "ipython3",
   "version": "3.6.4"
  }
 },
 "nbformat": 4,
 "nbformat_minor": 2
}
